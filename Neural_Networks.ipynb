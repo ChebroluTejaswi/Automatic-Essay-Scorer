{
 "cells": [
  {
   "cell_type": "code",
   "execution_count": 18,
   "metadata": {},
   "outputs": [],
   "source": [
    "from gensim.models.keyedvectors import KeyedVectors"
   ]
  },
  {
   "cell_type": "code",
   "execution_count": 29,
   "metadata": {},
   "outputs": [],
   "source": [
    "import numpy as np\n",
    "import pandas as pd\n",
    "import nltk\n",
    "import re\n",
    "from nltk.corpus import stopwords\n",
    "from nltk.tokenize import sent_tokenize,word_tokenize\n",
    "from gensim.models import Word2Vec\n",
    "from keras.layers import Embedding, LSTM, Dense, Dropout, Lambda, Flatten,Bidirectional\n",
    "from keras.models import Sequential, load_model, model_from_config\n",
    "import keras.backend as K\n",
    "from sklearn.model_selection import train_test_split\n",
    "from sklearn.metrics import mean_squared_error\n",
    "from sklearn.metrics import cohen_kappa_score"
   ]
  },
  {
   "cell_type": "markdown",
   "metadata": {},
   "source": [
    "**Preparing Dataset**"
   ]
  },
  {
   "cell_type": "code",
   "execution_count": 2,
   "metadata": {},
   "outputs": [],
   "source": [
    "df = pd.read_csv(\"training_set_rel3.tsv\", sep='\\t', encoding='ISO-8859-1');\n",
    "df.dropna(axis=1,inplace=True)\n",
    "df.drop(columns=['domain1_score','rater1_domain1','rater2_domain1'],inplace=True,axis=1)\n",
    "df.head()\n",
    "temp = pd.read_csv(\"Processed_data.csv\")\n",
    "temp.drop(\"Unnamed: 0\",inplace=True,axis=1)"
   ]
  },
  {
   "cell_type": "code",
   "execution_count": 3,
   "metadata": {},
   "outputs": [
    {
     "data": {
      "text/html": [
       "<div>\n",
       "<style scoped>\n",
       "    .dataframe tbody tr th:only-of-type {\n",
       "        vertical-align: middle;\n",
       "    }\n",
       "\n",
       "    .dataframe tbody tr th {\n",
       "        vertical-align: top;\n",
       "    }\n",
       "\n",
       "    .dataframe thead th {\n",
       "        text-align: right;\n",
       "    }\n",
       "</style>\n",
       "<table border=\"1\" class=\"dataframe\">\n",
       "  <thead>\n",
       "    <tr style=\"text-align: right;\">\n",
       "      <th></th>\n",
       "      <th>essay_id</th>\n",
       "      <th>essay_set</th>\n",
       "      <th>essay</th>\n",
       "      <th>domain1_score</th>\n",
       "    </tr>\n",
       "  </thead>\n",
       "  <tbody>\n",
       "    <tr>\n",
       "      <th>0</th>\n",
       "      <td>1</td>\n",
       "      <td>1</td>\n",
       "      <td>Dear local newspaper, I think effects computer...</td>\n",
       "      <td>6</td>\n",
       "    </tr>\n",
       "    <tr>\n",
       "      <th>1</th>\n",
       "      <td>2</td>\n",
       "      <td>1</td>\n",
       "      <td>Dear @CAPS1 @CAPS2, I believe that using compu...</td>\n",
       "      <td>7</td>\n",
       "    </tr>\n",
       "    <tr>\n",
       "      <th>2</th>\n",
       "      <td>3</td>\n",
       "      <td>1</td>\n",
       "      <td>Dear, @CAPS1 @CAPS2 @CAPS3 More and more peopl...</td>\n",
       "      <td>5</td>\n",
       "    </tr>\n",
       "    <tr>\n",
       "      <th>3</th>\n",
       "      <td>4</td>\n",
       "      <td>1</td>\n",
       "      <td>Dear Local Newspaper, @CAPS1 I have found that...</td>\n",
       "      <td>8</td>\n",
       "    </tr>\n",
       "    <tr>\n",
       "      <th>4</th>\n",
       "      <td>5</td>\n",
       "      <td>1</td>\n",
       "      <td>Dear @LOCATION1, I know having computers has a...</td>\n",
       "      <td>6</td>\n",
       "    </tr>\n",
       "  </tbody>\n",
       "</table>\n",
       "</div>"
      ],
      "text/plain": [
       "   essay_id  essay_set                                              essay  \\\n",
       "0         1          1  Dear local newspaper, I think effects computer...   \n",
       "1         2          1  Dear @CAPS1 @CAPS2, I believe that using compu...   \n",
       "2         3          1  Dear, @CAPS1 @CAPS2 @CAPS3 More and more peopl...   \n",
       "3         4          1  Dear Local Newspaper, @CAPS1 I have found that...   \n",
       "4         5          1  Dear @LOCATION1, I know having computers has a...   \n",
       "\n",
       "   domain1_score  \n",
       "0              6  \n",
       "1              7  \n",
       "2              5  \n",
       "3              8  \n",
       "4              6  "
      ]
     },
     "execution_count": 3,
     "metadata": {},
     "output_type": "execute_result"
    }
   ],
   "source": [
    "df['domain1_score']=temp['final_score']\n",
    "df.head()"
   ]
  },
  {
   "cell_type": "code",
   "execution_count": 4,
   "metadata": {},
   "outputs": [
    {
     "data": {
      "text/plain": [
       "\"Dear local newspaper, I think effects computers have on people are great learning skills/affects because they give us time to chat with friends/new people, helps us learn about the globe(astronomy) and keeps us out of troble! Thing about! Dont you think so? How would you feel if your teenager is always on the phone with friends! Do you ever time to chat with your friends or buisness partner about things. Well now - there's a new way to chat the computer, theirs plenty of sites on the internet to do so: @ORGANIZATION1, @ORGANIZATION2, @CAPS1, facebook, myspace ect. Just think now while your setting up meeting with your boss on the computer, your teenager is having fun on the phone not rushing to get off cause you want to use it. How did you learn about other countrys/states outside of yours? Well I have by computer/internet, it's a new way to learn about what going on in our time! You might think your child spends a lot of time on the computer, but ask them so question about the economy, sea floor spreading or even about the @DATE1's you'll be surprise at how much he/she knows. Believe it or not the computer is much interesting then in class all day reading out of books. If your child is home on your computer or at a local library, it's better than being out with friends being fresh, or being perpressured to doing something they know isnt right. You might not know where your child is, @CAPS2 forbidde in a hospital bed because of a drive-by. Rather than your child on the computer learning, chatting or just playing games, safe and sound in your home or community place. Now I hope you have reached a point to understand and agree with me, because computers can have great effects on you or child because it gives us time to chat with friends/new people, helps us learn about the globe and believe or not keeps us out of troble. Thank you for listening.\""
      ]
     },
     "execution_count": 4,
     "metadata": {},
     "output_type": "execute_result"
    }
   ],
   "source": [
    "df['essay'][0]"
   ]
  },
  {
   "cell_type": "code",
   "execution_count": 5,
   "metadata": {},
   "outputs": [
    {
     "data": {
      "text/html": [
       "<div>\n",
       "<style scoped>\n",
       "    .dataframe tbody tr th:only-of-type {\n",
       "        vertical-align: middle;\n",
       "    }\n",
       "\n",
       "    .dataframe tbody tr th {\n",
       "        vertical-align: top;\n",
       "    }\n",
       "\n",
       "    .dataframe thead th {\n",
       "        text-align: right;\n",
       "    }\n",
       "</style>\n",
       "<table border=\"1\" class=\"dataframe\">\n",
       "  <thead>\n",
       "    <tr style=\"text-align: right;\">\n",
       "      <th></th>\n",
       "      <th>essay_id</th>\n",
       "      <th>essay_set</th>\n",
       "      <th>essay</th>\n",
       "      <th>final_score</th>\n",
       "      <th>clean_essay</th>\n",
       "      <th>char_count</th>\n",
       "      <th>word_count</th>\n",
       "      <th>sent_count</th>\n",
       "      <th>avg_word_len</th>\n",
       "      <th>noun_count</th>\n",
       "      <th>adj_count</th>\n",
       "      <th>verb_count</th>\n",
       "      <th>adv_count</th>\n",
       "    </tr>\n",
       "  </thead>\n",
       "  <tbody>\n",
       "    <tr>\n",
       "      <th>0</th>\n",
       "      <td>1</td>\n",
       "      <td>1</td>\n",
       "      <td>Dear local newspaper, I think effects computer...</td>\n",
       "      <td>6</td>\n",
       "      <td>Dear local newspaper  I think effects computer...</td>\n",
       "      <td>1483</td>\n",
       "      <td>350</td>\n",
       "      <td>16</td>\n",
       "      <td>4.237143</td>\n",
       "      <td>83</td>\n",
       "      <td>74</td>\n",
       "      <td>18</td>\n",
       "      <td>24</td>\n",
       "    </tr>\n",
       "  </tbody>\n",
       "</table>\n",
       "</div>"
      ],
      "text/plain": [
       "   essay_id  essay_set                                              essay  \\\n",
       "0         1          1  Dear local newspaper, I think effects computer...   \n",
       "\n",
       "   final_score                                        clean_essay  char_count  \\\n",
       "0            6  Dear local newspaper  I think effects computer...        1483   \n",
       "\n",
       "   word_count  sent_count  avg_word_len  noun_count  adj_count  verb_count  \\\n",
       "0         350          16      4.237143          83         74          18   \n",
       "\n",
       "   adv_count  \n",
       "0         24  "
      ]
     },
     "execution_count": 5,
     "metadata": {},
     "output_type": "execute_result"
    }
   ],
   "source": [
    "temp.head(1)"
   ]
  },
  {
   "cell_type": "code",
   "execution_count": 6,
   "metadata": {},
   "outputs": [],
   "source": [
    "#Make Dataset\n",
    "y = df['domain1_score']\n",
    "df.drop('domain1_score',inplace=True,axis=1)\n",
    "X=df"
   ]
  },
  {
   "cell_type": "code",
   "execution_count": 7,
   "metadata": {},
   "outputs": [],
   "source": [
    "X_train, X_test, y_train, y_test = train_test_split(X, y, test_size=0.3, random_state=42)"
   ]
  },
  {
   "cell_type": "code",
   "execution_count": 8,
   "metadata": {},
   "outputs": [
    {
     "data": {
      "text/plain": [
       "(9083, 3)"
      ]
     },
     "execution_count": 8,
     "metadata": {},
     "output_type": "execute_result"
    }
   ],
   "source": [
    "X_train.shape"
   ]
  },
  {
   "cell_type": "markdown",
   "metadata": {},
   "source": [
    " "
   ]
  },
  {
   "cell_type": "markdown",
   "metadata": {},
   "source": [
    "**PREPROCESSING**"
   ]
  },
  {
   "cell_type": "code",
   "execution_count": 9,
   "metadata": {},
   "outputs": [],
   "source": [
    "train_e = X_train['essay'].tolist()\n",
    "test_e = X_test['essay'].tolist()"
   ]
  },
  {
   "cell_type": "code",
   "execution_count": 10,
   "metadata": {},
   "outputs": [],
   "source": [
    "train_sents=[]\n",
    "test_sents=[]\n",
    "\n",
    "stop_words = set(stopwords.words('english')) \n",
    "def sent2word(x):\n",
    "    x=re.sub(\"[^A-Za-z]\",\" \",x)\n",
    "    x.lower()\n",
    "    filtered_sentence = [] \n",
    "    words=x.split()\n",
    "    for w in words:\n",
    "        if w not in stop_words: \n",
    "            filtered_sentence.append(w)\n",
    "    return filtered_sentence\n",
    "\n",
    "def essay2word(essay):\n",
    "    essay = essay.strip()\n",
    "    tokenizer = nltk.data.load('tokenizers/punkt/english.pickle')\n",
    "    raw = tokenizer.tokenize(essay)\n",
    "    final_words=[]\n",
    "    for i in raw:\n",
    "        if(len(i)>0):\n",
    "            final_words.append(sent2word(i))\n",
    "    return final_words\n",
    "\n",
    "for i in train_e:\n",
    "    train_sents+=essay2word(i)\n",
    "\n",
    "for i in test_e:\n",
    "    test_sents+=essay2word(i)"
   ]
  },
  {
   "cell_type": "code",
   "execution_count": 11,
   "metadata": {},
   "outputs": [
    {
     "data": {
      "text/plain": [
       "115924"
      ]
     },
     "execution_count": 11,
     "metadata": {},
     "output_type": "execute_result"
    }
   ],
   "source": [
    "len(train_sents)"
   ]
  },
  {
   "cell_type": "code",
   "execution_count": 12,
   "metadata": {},
   "outputs": [
    {
     "data": {
      "text/plain": [
       "['It',\n",
       " 'first',\n",
       " 'day',\n",
       " 'high',\n",
       " 'school',\n",
       " 'gut',\n",
       " 'full',\n",
       " 'butterflies',\n",
       " 'make',\n",
       " 'want',\n",
       " 'run',\n",
       " 'bathrooms',\n",
       " 'hide',\n",
       " 'world']"
      ]
     },
     "execution_count": 12,
     "metadata": {},
     "output_type": "execute_result"
    }
   ],
   "source": [
    "train_sents[0]"
   ]
  },
  {
   "cell_type": "markdown",
   "metadata": {},
   "source": [
    " "
   ]
  },
  {
   "cell_type": "markdown",
   "metadata": {},
   "source": [
    "**Preparing WORD2VEC and LSTM Model**"
   ]
  },
  {
   "cell_type": "code",
   "execution_count": 13,
   "metadata": {},
   "outputs": [],
   "source": [
    "def get_model():\n",
    "    model = Sequential()\n",
    "    model.add(LSTM(300, dropout=0.4, recurrent_dropout=0.4, input_shape=[1, 300], return_sequences=True))\n",
    "    model.add(LSTM(64, recurrent_dropout=0.4))\n",
    "    model.add(Dropout(0.5))\n",
    "    model.add(Dense(1, activation='relu'))\n",
    "    model.compile(loss='mean_squared_error', optimizer='rmsprop', metrics=['mae'])\n",
    "    model.summary()\n",
    "    return model"
   ]
  },
  {
   "cell_type": "code",
   "execution_count": 20,
   "metadata": {},
   "outputs": [
    {
     "ename": "TypeError",
     "evalue": "__init__() got an unexpected keyword argument 'size'",
     "output_type": "error",
     "traceback": [
      "\u001b[1;31m---------------------------------------------------------------------------\u001b[0m",
      "\u001b[1;31mTypeError\u001b[0m                                 Traceback (most recent call last)",
      "\u001b[1;32m~\\AppData\\Local\\Temp\\ipykernel_18048\\3778607990.py\u001b[0m in \u001b[0;36m<module>\u001b[1;34m\u001b[0m\n\u001b[0;32m      6\u001b[0m \u001b[0mdownsampling\u001b[0m \u001b[1;33m=\u001b[0m \u001b[1;36m1e-3\u001b[0m\u001b[1;33m\u001b[0m\u001b[1;33m\u001b[0m\u001b[0m\n\u001b[0;32m      7\u001b[0m \u001b[1;33m\u001b[0m\u001b[0m\n\u001b[1;32m----> 8\u001b[1;33m model = Word2Vec(train_sents, \n\u001b[0m\u001b[0;32m      9\u001b[0m                  \u001b[0mworkers\u001b[0m\u001b[1;33m=\u001b[0m\u001b[0mnum_workers\u001b[0m\u001b[1;33m,\u001b[0m\u001b[1;33m\u001b[0m\u001b[1;33m\u001b[0m\u001b[0m\n\u001b[0;32m     10\u001b[0m                  \u001b[0msize\u001b[0m\u001b[1;33m=\u001b[0m\u001b[0mnum_features\u001b[0m\u001b[1;33m,\u001b[0m\u001b[1;33m\u001b[0m\u001b[1;33m\u001b[0m\u001b[0m\n",
      "\u001b[1;31mTypeError\u001b[0m: __init__() got an unexpected keyword argument 'size'"
     ]
    }
   ],
   "source": [
    "#Training Word2Vec model\n",
    "num_features = 300 \n",
    "min_word_count = 40\n",
    "num_workers = 4\n",
    "context = 10\n",
    "downsampling = 1e-3\n",
    "\n",
    "model = Word2Vec(train_sents, \n",
    "                 workers=num_workers, \n",
    "                 size=num_features, \n",
    "                 min_count = min_word_count, \n",
    "                 window = context, \n",
    "                 sample = downsampling)\n",
    "\n",
    "model.init_sims(replace=True)\n",
    "model.save_word2vec_format('word2vecmodel.bin', binary=True)"
   ]
  },
  {
   "cell_type": "code",
   "execution_count": 21,
   "metadata": {
    "scrolled": true
   },
   "outputs": [
    {
     "name": "stderr",
     "output_type": "stream",
     "text": [
      "C:\\Users\\sathwik\\AppData\\Local\\Temp\\ipykernel_18048\\3387064170.py:10: RuntimeWarning: invalid value encountered in divide\n",
      "  vec = np.divide(vec,noOfWords)\n"
     ]
    }
   ],
   "source": [
    "model = KeyedVectors.load_word2vec_format(\"word2vecmodel.bin\", binary=True)\n",
    "def makeVec(words, model, num_features):\n",
    "    vec = np.zeros((num_features,),dtype=\"float32\")\n",
    "    noOfWords = 0.\n",
    "    index2word_set = set(model.index_to_key)\n",
    "    for i in words:\n",
    "        if i in index2word_set:\n",
    "            noOfWords += 1\n",
    "            vec = np.add(vec,model[i])        \n",
    "    vec = np.divide(vec,noOfWords)\n",
    "    return vec\n",
    "\n",
    "\n",
    "def getVecs(essays, model, num_features):\n",
    "    c=0\n",
    "    essay_vecs = np.zeros((len(essays),num_features),dtype=\"float32\")\n",
    "    for i in essays:\n",
    "        essay_vecs[c] = makeVec(i, model, num_features)\n",
    "        c+=1\n",
    "    return essay_vecs\n",
    "\n",
    "\n",
    "clean_train=[]\n",
    "for i in train_e:\n",
    "    clean_train.append(sent2word(i))\n",
    "training_vectors = getVecs(clean_train, model, num_features)\n",
    "\n",
    "clean_test=[] \n",
    "\n",
    "for i in test_e:\n",
    "    clean_test.append(sent2word(i))\n",
    "testing_vectors = getVecs(clean_test, model, num_features)"
   ]
  },
  {
   "cell_type": "code",
   "execution_count": 22,
   "metadata": {},
   "outputs": [
    {
     "data": {
      "text/plain": [
       "(9083, 300)"
      ]
     },
     "execution_count": 22,
     "metadata": {},
     "output_type": "execute_result"
    }
   ],
   "source": [
    "training_vectors.shape"
   ]
  },
  {
   "cell_type": "code",
   "execution_count": 23,
   "metadata": {},
   "outputs": [
    {
     "name": "stdout",
     "output_type": "stream",
     "text": [
      "Model: \"sequential\"\n",
      "_________________________________________________________________\n",
      " Layer (type)                Output Shape              Param #   \n",
      "=================================================================\n",
      " lstm (LSTM)                 (None, 1, 300)            721200    \n",
      "                                                                 \n",
      " lstm_1 (LSTM)               (None, 64)                93440     \n",
      "                                                                 \n",
      " dropout (Dropout)           (None, 64)                0         \n",
      "                                                                 \n",
      " dense (Dense)               (None, 1)                 65        \n",
      "                                                                 \n",
      "=================================================================\n",
      "Total params: 814,705\n",
      "Trainable params: 814,705\n",
      "Non-trainable params: 0\n",
      "_________________________________________________________________\n"
     ]
    }
   ],
   "source": [
    "training_vectors = np.array(training_vectors)\n",
    "testing_vectors = np.array(testing_vectors)\n",
    "\n",
    "# Reshaping train and test vectors to 3 dimensions. (1 represnts one timestep)\n",
    "training_vectors = np.reshape(training_vectors, (training_vectors.shape[0], 1, training_vectors.shape[1]))\n",
    "testing_vectors = np.reshape(testing_vectors, (testing_vectors.shape[0], 1, testing_vectors.shape[1]))\n",
    "lstm_model = get_model()"
   ]
  },
  {
   "cell_type": "code",
   "execution_count": 24,
   "metadata": {},
   "outputs": [
    {
     "data": {
      "text/plain": [
       "(9083, 1, 300)"
      ]
     },
     "execution_count": 24,
     "metadata": {},
     "output_type": "execute_result"
    }
   ],
   "source": [
    "training_vectors.shape"
   ]
  },
  {
   "cell_type": "markdown",
   "metadata": {},
   "source": [
    "\n",
    "**TRAINING AND PREDICTION**\n",
    "\n",
    "\n",
    "\n",
    "\n",
    "\n"
   ]
  },
  {
   "cell_type": "markdown",
   "metadata": {},
   "source": [
    "  "
   ]
  },
  {
   "cell_type": "code",
   "execution_count": 25,
   "metadata": {
    "scrolled": false
   },
   "outputs": [
    {
     "name": "stdout",
     "output_type": "stream",
     "text": [
      "Epoch 1/150\n",
      "142/142 [==============================] - 9s 25ms/step - loss: 11.0158 - mae: 2.5929\n",
      "Epoch 2/150\n",
      "142/142 [==============================] - 4s 25ms/step - loss: 5.5984 - mae: 1.8770\n",
      "Epoch 3/150\n",
      "142/142 [==============================] - 3s 24ms/step - loss: 5.2538 - mae: 1.8192\n",
      "Epoch 4/150\n",
      "142/142 [==============================] - 3s 24ms/step - loss: 5.1995 - mae: 1.8073\n",
      "Epoch 5/150\n",
      "142/142 [==============================] - 4s 25ms/step - loss: 5.1053 - mae: 1.7895\n",
      "Epoch 6/150\n",
      "142/142 [==============================] - 3s 24ms/step - loss: 5.1230 - mae: 1.7798\n",
      "Epoch 7/150\n",
      "142/142 [==============================] - 4s 25ms/step - loss: 5.0501 - mae: 1.7704\n",
      "Epoch 8/150\n",
      "142/142 [==============================] - 4s 25ms/step - loss: 5.0107 - mae: 1.7627\n",
      "Epoch 9/150\n",
      "142/142 [==============================] - 3s 24ms/step - loss: 5.0253 - mae: 1.7696\n",
      "Epoch 10/150\n",
      "142/142 [==============================] - 4s 25ms/step - loss: 4.9661 - mae: 1.7536\n",
      "Epoch 11/150\n",
      "142/142 [==============================] - 4s 25ms/step - loss: 4.9350 - mae: 1.7395\n",
      "Epoch 12/150\n",
      "142/142 [==============================] - 3s 24ms/step - loss: 4.9597 - mae: 1.7546\n",
      "Epoch 13/150\n",
      "142/142 [==============================] - 3s 25ms/step - loss: 4.9043 - mae: 1.7417\n",
      "Epoch 14/150\n",
      "142/142 [==============================] - 4s 26ms/step - loss: 4.8775 - mae: 1.7387\n",
      "Epoch 15/150\n",
      "142/142 [==============================] - 3s 25ms/step - loss: 4.8629 - mae: 1.7347\n",
      "Epoch 16/150\n",
      "142/142 [==============================] - 4s 25ms/step - loss: 4.8886 - mae: 1.7425\n",
      "Epoch 17/150\n",
      "142/142 [==============================] - 4s 26ms/step - loss: 4.7983 - mae: 1.7219\n",
      "Epoch 18/150\n",
      "142/142 [==============================] - 4s 25ms/step - loss: 4.8205 - mae: 1.7279\n",
      "Epoch 19/150\n",
      "142/142 [==============================] - 4s 26ms/step - loss: 4.8859 - mae: 1.7433\n",
      "Epoch 20/150\n",
      "142/142 [==============================] - 4s 26ms/step - loss: 4.7874 - mae: 1.7218\n",
      "Epoch 21/150\n",
      "142/142 [==============================] - 4s 26ms/step - loss: 4.8393 - mae: 1.7309\n",
      "Epoch 22/150\n",
      "142/142 [==============================] - 4s 25ms/step - loss: 4.7032 - mae: 1.7013\n",
      "Epoch 23/150\n",
      "142/142 [==============================] - 4s 27ms/step - loss: 4.7297 - mae: 1.7141\n",
      "Epoch 24/150\n",
      "142/142 [==============================] - 3s 24ms/step - loss: 4.6532 - mae: 1.6927\n",
      "Epoch 25/150\n",
      "142/142 [==============================] - 4s 26ms/step - loss: 4.6781 - mae: 1.6881\n",
      "Epoch 26/150\n",
      "142/142 [==============================] - 4s 26ms/step - loss: 4.5789 - mae: 1.6821\n",
      "Epoch 27/150\n",
      "142/142 [==============================] - 4s 27ms/step - loss: 4.6195 - mae: 1.6890\n",
      "Epoch 28/150\n",
      "142/142 [==============================] - 4s 25ms/step - loss: 4.5732 - mae: 1.6750\n",
      "Epoch 29/150\n",
      "142/142 [==============================] - 4s 26ms/step - loss: 4.5725 - mae: 1.6733\n",
      "Epoch 30/150\n",
      "142/142 [==============================] - 4s 25ms/step - loss: 4.4725 - mae: 1.6615\n",
      "Epoch 31/150\n",
      "142/142 [==============================] - 4s 26ms/step - loss: 4.5001 - mae: 1.6682\n",
      "Epoch 32/150\n",
      "142/142 [==============================] - 4s 26ms/step - loss: 4.5391 - mae: 1.6705\n",
      "Epoch 33/150\n",
      "142/142 [==============================] - 4s 26ms/step - loss: 4.4271 - mae: 1.6477\n",
      "Epoch 34/150\n",
      "142/142 [==============================] - 3s 25ms/step - loss: 4.4569 - mae: 1.6511\n",
      "Epoch 35/150\n",
      "142/142 [==============================] - 4s 25ms/step - loss: 4.4360 - mae: 1.6480\n",
      "Epoch 36/150\n",
      "142/142 [==============================] - 4s 26ms/step - loss: 4.3996 - mae: 1.6468\n",
      "Epoch 37/150\n",
      "142/142 [==============================] - 4s 26ms/step - loss: 4.4286 - mae: 1.6491\n",
      "Epoch 38/150\n",
      "142/142 [==============================] - 4s 25ms/step - loss: 4.3655 - mae: 1.6353\n",
      "Epoch 39/150\n",
      "142/142 [==============================] - 3s 24ms/step - loss: 4.3439 - mae: 1.6299\n",
      "Epoch 40/150\n",
      "142/142 [==============================] - 4s 25ms/step - loss: 4.3039 - mae: 1.6218\n",
      "Epoch 41/150\n",
      "142/142 [==============================] - 3s 24ms/step - loss: 4.2773 - mae: 1.6136\n",
      "Epoch 42/150\n",
      "142/142 [==============================] - 4s 25ms/step - loss: 4.2415 - mae: 1.6044\n",
      "Epoch 43/150\n",
      "142/142 [==============================] - 4s 25ms/step - loss: 4.2030 - mae: 1.5962\n",
      "Epoch 44/150\n",
      "142/142 [==============================] - 4s 25ms/step - loss: 4.2366 - mae: 1.6052\n",
      "Epoch 45/150\n",
      "142/142 [==============================] - 4s 25ms/step - loss: 4.2127 - mae: 1.6081\n",
      "Epoch 46/150\n",
      "142/142 [==============================] - 4s 25ms/step - loss: 4.2087 - mae: 1.5997\n",
      "Epoch 47/150\n",
      "142/142 [==============================] - 4s 25ms/step - loss: 4.1606 - mae: 1.5915\n",
      "Epoch 48/150\n",
      "142/142 [==============================] - 4s 25ms/step - loss: 4.1515 - mae: 1.5934\n",
      "Epoch 49/150\n",
      "142/142 [==============================] - 4s 25ms/step - loss: 4.1366 - mae: 1.5876\n",
      "Epoch 50/150\n",
      "142/142 [==============================] - 4s 25ms/step - loss: 4.1164 - mae: 1.5826\n",
      "Epoch 51/150\n",
      "142/142 [==============================] - 3s 25ms/step - loss: 4.0763 - mae: 1.5743\n",
      "Epoch 52/150\n",
      "142/142 [==============================] - 4s 25ms/step - loss: 4.0328 - mae: 1.5663\n",
      "Epoch 53/150\n",
      "142/142 [==============================] - 4s 26ms/step - loss: 4.0511 - mae: 1.5692\n",
      "Epoch 54/150\n",
      "142/142 [==============================] - 4s 25ms/step - loss: 4.0663 - mae: 1.5684\n",
      "Epoch 55/150\n",
      "142/142 [==============================] - 4s 27ms/step - loss: 4.0743 - mae: 1.5697\n",
      "Epoch 56/150\n",
      "142/142 [==============================] - 4s 29ms/step - loss: 4.0267 - mae: 1.5658\n",
      "Epoch 57/150\n",
      "142/142 [==============================] - 4s 27ms/step - loss: 3.9635 - mae: 1.5482\n",
      "Epoch 58/150\n",
      "142/142 [==============================] - 4s 28ms/step - loss: 4.0176 - mae: 1.5706\n",
      "Epoch 59/150\n",
      "142/142 [==============================] - 4s 26ms/step - loss: 3.9323 - mae: 1.5439\n",
      "Epoch 60/150\n",
      "142/142 [==============================] - 4s 28ms/step - loss: 3.8561 - mae: 1.5357\n",
      "Epoch 61/150\n",
      "142/142 [==============================] - 4s 27ms/step - loss: 3.9086 - mae: 1.5436\n",
      "Epoch 62/150\n",
      "142/142 [==============================] - 4s 26ms/step - loss: 3.9206 - mae: 1.5432\n",
      "Epoch 63/150\n",
      "142/142 [==============================] - 4s 27ms/step - loss: 3.8978 - mae: 1.5391\n",
      "Epoch 64/150\n",
      "142/142 [==============================] - 4s 26ms/step - loss: 3.8413 - mae: 1.5360\n",
      "Epoch 65/150\n",
      "142/142 [==============================] - 4s 26ms/step - loss: 3.8724 - mae: 1.5427\n",
      "Epoch 66/150\n",
      "142/142 [==============================] - 4s 27ms/step - loss: 3.8344 - mae: 1.5266\n",
      "Epoch 67/150\n",
      "142/142 [==============================] - 4s 26ms/step - loss: 3.8288 - mae: 1.5238\n",
      "Epoch 68/150\n",
      "142/142 [==============================] - 4s 25ms/step - loss: 3.8050 - mae: 1.5240\n",
      "Epoch 69/150\n",
      "142/142 [==============================] - 4s 26ms/step - loss: 3.8208 - mae: 1.5197\n",
      "Epoch 70/150\n",
      "142/142 [==============================] - 4s 26ms/step - loss: 3.7837 - mae: 1.5262\n",
      "Epoch 71/150\n",
      "142/142 [==============================] - 4s 26ms/step - loss: 3.7981 - mae: 1.5209\n",
      "Epoch 72/150\n",
      "142/142 [==============================] - 4s 27ms/step - loss: 3.7353 - mae: 1.5072\n",
      "Epoch 73/150\n",
      "142/142 [==============================] - 4s 25ms/step - loss: 3.7124 - mae: 1.5018\n",
      "Epoch 74/150\n",
      "142/142 [==============================] - 4s 29ms/step - loss: 3.7618 - mae: 1.5123\n",
      "Epoch 75/150\n",
      "142/142 [==============================] - 4s 28ms/step - loss: 3.7049 - mae: 1.4945\n",
      "Epoch 76/150\n",
      "142/142 [==============================] - 4s 27ms/step - loss: 3.7639 - mae: 1.5128\n",
      "Epoch 77/150\n",
      "142/142 [==============================] - 4s 28ms/step - loss: 3.7101 - mae: 1.5049\n",
      "Epoch 78/150\n",
      "142/142 [==============================] - 4s 27ms/step - loss: 3.6950 - mae: 1.4957\n",
      "Epoch 79/150\n",
      "142/142 [==============================] - 4s 29ms/step - loss: 3.7407 - mae: 1.5086\n",
      "Epoch 80/150\n",
      "142/142 [==============================] - 4s 28ms/step - loss: 3.6649 - mae: 1.4941\n",
      "Epoch 81/150\n",
      "142/142 [==============================] - 4s 26ms/step - loss: 3.7268 - mae: 1.5017\n",
      "Epoch 82/150\n",
      "142/142 [==============================] - 4s 26ms/step - loss: 3.5978 - mae: 1.4819\n",
      "Epoch 83/150\n",
      "142/142 [==============================] - 4s 27ms/step - loss: 3.6608 - mae: 1.4910\n",
      "Epoch 84/150\n",
      "142/142 [==============================] - 4s 25ms/step - loss: 3.6442 - mae: 1.4804\n",
      "Epoch 85/150\n",
      "142/142 [==============================] - 4s 26ms/step - loss: 3.6149 - mae: 1.4780\n",
      "Epoch 86/150\n",
      "142/142 [==============================] - 3s 24ms/step - loss: 3.6100 - mae: 1.4758\n",
      "Epoch 87/150\n",
      "142/142 [==============================] - 3s 22ms/step - loss: 3.5508 - mae: 1.4705\n",
      "Epoch 88/150\n",
      "142/142 [==============================] - 3s 21ms/step - loss: 3.5896 - mae: 1.4750\n",
      "Epoch 89/150\n",
      "142/142 [==============================] - 3s 21ms/step - loss: 3.5604 - mae: 1.4627\n",
      "Epoch 90/150\n",
      "142/142 [==============================] - 3s 21ms/step - loss: 3.5878 - mae: 1.4773\n",
      "Epoch 91/150\n",
      "142/142 [==============================] - 3s 21ms/step - loss: 3.5559 - mae: 1.4668\n",
      "Epoch 92/150\n",
      "142/142 [==============================] - 3s 23ms/step - loss: 3.5548 - mae: 1.4673\n",
      "Epoch 93/150\n",
      "142/142 [==============================] - 3s 22ms/step - loss: 3.5403 - mae: 1.4649\n",
      "Epoch 94/150\n",
      "142/142 [==============================] - 3s 23ms/step - loss: 3.5676 - mae: 1.4683\n",
      "Epoch 95/150\n",
      "142/142 [==============================] - 3s 22ms/step - loss: 3.5338 - mae: 1.4585\n",
      "Epoch 96/150\n",
      "142/142 [==============================] - 3s 23ms/step - loss: 3.5699 - mae: 1.4733\n",
      "Epoch 97/150\n",
      "142/142 [==============================] - 3s 22ms/step - loss: 3.5559 - mae: 1.4670\n",
      "Epoch 98/150\n",
      "142/142 [==============================] - 3s 21ms/step - loss: 3.5034 - mae: 1.4610\n",
      "Epoch 99/150\n",
      "142/142 [==============================] - 3s 21ms/step - loss: 3.5154 - mae: 1.4567\n",
      "Epoch 100/150\n",
      "142/142 [==============================] - 3s 22ms/step - loss: 3.4681 - mae: 1.4477\n",
      "Epoch 101/150\n",
      "142/142 [==============================] - 3s 20ms/step - loss: 3.5305 - mae: 1.4610\n",
      "Epoch 102/150\n",
      "142/142 [==============================] - 3s 21ms/step - loss: 3.4914 - mae: 1.4524\n",
      "Epoch 103/150\n",
      "142/142 [==============================] - 3s 21ms/step - loss: 3.4832 - mae: 1.4503\n",
      "Epoch 104/150\n",
      "142/142 [==============================] - 3s 20ms/step - loss: 3.4369 - mae: 1.4409\n",
      "Epoch 105/150\n",
      "142/142 [==============================] - 3s 22ms/step - loss: 3.4654 - mae: 1.4483\n",
      "Epoch 106/150\n",
      "142/142 [==============================] - 3s 21ms/step - loss: 3.4454 - mae: 1.4449\n",
      "Epoch 107/150\n",
      "142/142 [==============================] - 3s 21ms/step - loss: 3.4474 - mae: 1.4492\n",
      "Epoch 108/150\n",
      "142/142 [==============================] - 3s 21ms/step - loss: 3.3820 - mae: 1.4260\n",
      "Epoch 109/150\n",
      "142/142 [==============================] - 3s 21ms/step - loss: 3.4181 - mae: 1.4359\n",
      "Epoch 110/150\n",
      "142/142 [==============================] - 3s 22ms/step - loss: 3.4298 - mae: 1.4434\n",
      "Epoch 111/150\n",
      "142/142 [==============================] - 3s 21ms/step - loss: 3.4638 - mae: 1.4491\n",
      "Epoch 112/150\n",
      "142/142 [==============================] - 3s 22ms/step - loss: 3.4269 - mae: 1.4361\n",
      "Epoch 113/150\n",
      "142/142 [==============================] - 3s 21ms/step - loss: 3.4015 - mae: 1.4296\n",
      "Epoch 114/150\n",
      "142/142 [==============================] - 3s 21ms/step - loss: 3.4034 - mae: 1.4368\n",
      "Epoch 115/150\n",
      "142/142 [==============================] - 3s 22ms/step - loss: 3.3791 - mae: 1.4291\n",
      "Epoch 116/150\n",
      "142/142 [==============================] - 3s 21ms/step - loss: 3.4476 - mae: 1.4423\n",
      "Epoch 117/150\n",
      "142/142 [==============================] - 3s 22ms/step - loss: 3.3630 - mae: 1.4275\n",
      "Epoch 118/150\n",
      "142/142 [==============================] - 3s 21ms/step - loss: 3.3667 - mae: 1.4231\n",
      "Epoch 119/150\n",
      "142/142 [==============================] - 3s 21ms/step - loss: 3.3564 - mae: 1.4224\n",
      "Epoch 120/150\n",
      "142/142 [==============================] - 3s 22ms/step - loss: 3.4190 - mae: 1.4383\n",
      "Epoch 121/150\n",
      "142/142 [==============================] - 3s 20ms/step - loss: 3.3765 - mae: 1.4289\n",
      "Epoch 122/150\n",
      "142/142 [==============================] - 3s 21ms/step - loss: 3.3547 - mae: 1.4236\n",
      "Epoch 123/150\n",
      "142/142 [==============================] - 3s 21ms/step - loss: 3.3603 - mae: 1.4245\n",
      "Epoch 124/150\n",
      "142/142 [==============================] - 3s 22ms/step - loss: 3.3506 - mae: 1.4252\n",
      "Epoch 125/150\n",
      "142/142 [==============================] - 3s 22ms/step - loss: 3.3536 - mae: 1.4226\n",
      "Epoch 126/150\n",
      "142/142 [==============================] - 3s 21ms/step - loss: 3.3445 - mae: 1.4158\n",
      "Epoch 127/150\n",
      "142/142 [==============================] - 3s 21ms/step - loss: 3.3736 - mae: 1.4237\n",
      "Epoch 128/150\n",
      "142/142 [==============================] - 3s 21ms/step - loss: 3.3462 - mae: 1.4152\n",
      "Epoch 129/150\n",
      "142/142 [==============================] - 3s 21ms/step - loss: 3.2964 - mae: 1.4104\n",
      "Epoch 130/150\n",
      "142/142 [==============================] - 3s 21ms/step - loss: 3.3126 - mae: 1.4166\n",
      "Epoch 131/150\n",
      "142/142 [==============================] - 3s 21ms/step - loss: 3.3026 - mae: 1.4081\n",
      "Epoch 132/150\n",
      "142/142 [==============================] - 3s 21ms/step - loss: 3.3027 - mae: 1.4071\n",
      "Epoch 133/150\n",
      "142/142 [==============================] - 3s 21ms/step - loss: 3.3245 - mae: 1.4141\n",
      "Epoch 134/150\n",
      "142/142 [==============================] - 3s 21ms/step - loss: 3.3001 - mae: 1.4113\n",
      "Epoch 135/150\n",
      "142/142 [==============================] - 3s 21ms/step - loss: 3.3400 - mae: 1.4198\n",
      "Epoch 136/150\n",
      "142/142 [==============================] - 3s 20ms/step - loss: 3.2648 - mae: 1.4017\n",
      "Epoch 137/150\n",
      "142/142 [==============================] - 3s 21ms/step - loss: 3.3082 - mae: 1.4108\n",
      "Epoch 138/150\n",
      "142/142 [==============================] - 3s 22ms/step - loss: 3.2285 - mae: 1.3976\n",
      "Epoch 139/150\n",
      "142/142 [==============================] - 3s 23ms/step - loss: 3.3001 - mae: 1.4079\n",
      "Epoch 140/150\n",
      "142/142 [==============================] - 3s 21ms/step - loss: 3.2691 - mae: 1.4001\n",
      "Epoch 141/150\n",
      "142/142 [==============================] - 3s 21ms/step - loss: 3.2726 - mae: 1.4028\n",
      "Epoch 142/150\n",
      "142/142 [==============================] - 3s 21ms/step - loss: 3.2356 - mae: 1.3991\n",
      "Epoch 143/150\n",
      "142/142 [==============================] - 3s 21ms/step - loss: 3.2731 - mae: 1.4060\n",
      "Epoch 144/150\n",
      "142/142 [==============================] - 3s 21ms/step - loss: 3.2156 - mae: 1.3918\n",
      "Epoch 145/150\n",
      "142/142 [==============================] - 3s 22ms/step - loss: 3.2867 - mae: 1.4065\n",
      "Epoch 146/150\n",
      "142/142 [==============================] - 3s 20ms/step - loss: 3.2103 - mae: 1.3927\n",
      "Epoch 147/150\n",
      "142/142 [==============================] - 3s 21ms/step - loss: 3.2443 - mae: 1.3930\n",
      "Epoch 148/150\n",
      "142/142 [==============================] - 3s 22ms/step - loss: 3.2106 - mae: 1.3924\n",
      "Epoch 149/150\n",
      "142/142 [==============================] - 3s 21ms/step - loss: 3.2153 - mae: 1.3980\n",
      "Epoch 150/150\n",
      "142/142 [==============================] - 3s 22ms/step - loss: 3.2341 - mae: 1.3968\n"
     ]
    },
    {
     "data": {
      "text/plain": [
       "<keras.callbacks.History at 0x1b9bdb52760>"
      ]
     },
     "execution_count": 25,
     "metadata": {},
     "output_type": "execute_result"
    }
   ],
   "source": [
    "lstm_model.fit(training_vectors, y_train, batch_size=64, epochs=150)"
   ]
  },
  {
   "cell_type": "code",
   "execution_count": 26,
   "metadata": {},
   "outputs": [
    {
     "name": "stdout",
     "output_type": "stream",
     "text": [
      "122/122 [==============================] - 1s 4ms/step\n"
     ]
    },
    {
     "data": {
      "text/plain": [
       "array([[3.],\n",
       "       [5.],\n",
       "       [6.],\n",
       "       ...,\n",
       "       [7.],\n",
       "       [7.],\n",
       "       [9.]], dtype=float32)"
      ]
     },
     "execution_count": 26,
     "metadata": {},
     "output_type": "execute_result"
    }
   ],
   "source": [
    "lstm_model.save('final_lstm.h5')\n",
    "y_pred = lstm_model.predict(testing_vectors)\n",
    "y_pred = np.around(y_pred)\n",
    "y_pred"
   ]
  },
  {
   "cell_type": "code",
   "execution_count": 27,
   "metadata": {},
   "outputs": [],
   "source": [
    "def get_bidirectional_model():\n",
    "    model = Sequential()\n",
    "    model.add(Bidirectional(LSTM(300, dropout=0.4, recurrent_dropout=0.4, return_sequences=True), input_shape=[1, 300]))\n",
    "    model.add(Bidirectional(LSTM(64, recurrent_dropout=0.4)))\n",
    "    model.add(Dropout(0.5))\n",
    "    model.add(Dense(1, activation='relu'))\n",
    "    model.compile(loss='mean_squared_error', optimizer='rmsprop', metrics=['mae'])\n",
    "    model.summary()\n",
    "    return model"
   ]
  },
  {
   "cell_type": "code",
   "execution_count": 30,
   "metadata": {},
   "outputs": [
    {
     "name": "stdout",
     "output_type": "stream",
     "text": [
      "Model: \"sequential_2\"\n",
      "_________________________________________________________________\n",
      " Layer (type)                Output Shape              Param #   \n",
      "=================================================================\n",
      " bidirectional (Bidirectiona  (None, 1, 600)           1442400   \n",
      " l)                                                              \n",
      "                                                                 \n",
      " bidirectional_1 (Bidirectio  (None, 128)              340480    \n",
      " nal)                                                            \n",
      "                                                                 \n",
      " dropout_1 (Dropout)         (None, 128)               0         \n",
      "                                                                 \n",
      " dense_1 (Dense)             (None, 1)                 129       \n",
      "                                                                 \n",
      "=================================================================\n",
      "Total params: 1,783,009\n",
      "Trainable params: 1,783,009\n",
      "Non-trainable params: 0\n",
      "_________________________________________________________________\n"
     ]
    }
   ],
   "source": [
    "bidirectional_lstm= get_bidirectional_model()"
   ]
  },
  {
   "cell_type": "code",
   "execution_count": 32,
   "metadata": {},
   "outputs": [
    {
     "name": "stdout",
     "output_type": "stream",
     "text": [
      "Epoch 1/150\n",
      "142/142 [==============================] - 8s 53ms/step - loss: 4.8365 - mae: 1.7322\n",
      "Epoch 2/150\n",
      "142/142 [==============================] - 8s 55ms/step - loss: 4.7904 - mae: 1.7259\n",
      "Epoch 3/150\n",
      "142/142 [==============================] - 8s 56ms/step - loss: 4.7461 - mae: 1.7129\n",
      "Epoch 4/150\n",
      "142/142 [==============================] - 8s 55ms/step - loss: 4.6824 - mae: 1.6972\n",
      "Epoch 5/150\n",
      "142/142 [==============================] - 8s 57ms/step - loss: 4.7149 - mae: 1.7034\n",
      "Epoch 6/150\n",
      "142/142 [==============================] - 8s 54ms/step - loss: 4.6723 - mae: 1.6957\n",
      "Epoch 7/150\n",
      "142/142 [==============================] - 8s 53ms/step - loss: 4.6361 - mae: 1.6852\n",
      "Epoch 8/150\n",
      "142/142 [==============================] - 7s 50ms/step - loss: 4.6350 - mae: 1.6873\n",
      "Epoch 9/150\n",
      "142/142 [==============================] - 7s 50ms/step - loss: 4.6138 - mae: 1.6889\n",
      "Epoch 10/150\n",
      "142/142 [==============================] - 7s 52ms/step - loss: 4.6115 - mae: 1.6856\n",
      "Epoch 11/150\n",
      "142/142 [==============================] - 8s 55ms/step - loss: 4.6306 - mae: 1.6815\n",
      "Epoch 12/150\n",
      "142/142 [==============================] - 7s 52ms/step - loss: 4.6596 - mae: 1.6853\n",
      "Epoch 13/150\n",
      "142/142 [==============================] - 7s 52ms/step - loss: 4.6049 - mae: 1.6793\n",
      "Epoch 14/150\n",
      "142/142 [==============================] - 7s 51ms/step - loss: 4.6052 - mae: 1.6712\n",
      "Epoch 15/150\n",
      "142/142 [==============================] - 8s 53ms/step - loss: 4.5454 - mae: 1.6696\n",
      "Epoch 16/150\n",
      "142/142 [==============================] - 7s 52ms/step - loss: 4.5176 - mae: 1.6668\n",
      "Epoch 17/150\n",
      "142/142 [==============================] - 7s 52ms/step - loss: 4.5000 - mae: 1.6648\n",
      "Epoch 18/150\n",
      "142/142 [==============================] - 7s 53ms/step - loss: 4.4757 - mae: 1.6571\n",
      "Epoch 19/150\n",
      "142/142 [==============================] - 8s 55ms/step - loss: 4.4679 - mae: 1.6515\n",
      "Epoch 20/150\n",
      "142/142 [==============================] - 9s 62ms/step - loss: 4.4257 - mae: 1.6348\n",
      "Epoch 21/150\n",
      "142/142 [==============================] - 8s 58ms/step - loss: 4.4081 - mae: 1.6380\n",
      "Epoch 22/150\n",
      "142/142 [==============================] - 8s 58ms/step - loss: 4.4106 - mae: 1.6417\n",
      "Epoch 23/150\n",
      "142/142 [==============================] - 8s 58ms/step - loss: 4.3416 - mae: 1.6275\n",
      "Epoch 24/150\n",
      "142/142 [==============================] - 8s 56ms/step - loss: 4.2968 - mae: 1.6134\n",
      "Epoch 25/150\n",
      "142/142 [==============================] - 8s 58ms/step - loss: 4.3219 - mae: 1.6180\n",
      "Epoch 26/150\n",
      "142/142 [==============================] - 8s 56ms/step - loss: 4.2500 - mae: 1.6087\n",
      "Epoch 27/150\n",
      "142/142 [==============================] - 8s 60ms/step - loss: 4.2533 - mae: 1.6031\n",
      "Epoch 28/150\n",
      "142/142 [==============================] - 8s 56ms/step - loss: 4.2114 - mae: 1.6005\n",
      "Epoch 29/150\n",
      "142/142 [==============================] - 8s 57ms/step - loss: 4.2180 - mae: 1.6006\n",
      "Epoch 30/150\n",
      "142/142 [==============================] - 8s 54ms/step - loss: 4.1434 - mae: 1.5839\n",
      "Epoch 31/150\n",
      "142/142 [==============================] - 8s 53ms/step - loss: 4.1136 - mae: 1.5812\n",
      "Epoch 32/150\n",
      "142/142 [==============================] - 8s 56ms/step - loss: 4.1694 - mae: 1.5865\n",
      "Epoch 33/150\n",
      "142/142 [==============================] - 8s 55ms/step - loss: 4.1664 - mae: 1.5940\n",
      "Epoch 34/150\n",
      "142/142 [==============================] - 8s 54ms/step - loss: 4.0984 - mae: 1.5762\n",
      "Epoch 35/150\n",
      "142/142 [==============================] - 8s 56ms/step - loss: 4.1164 - mae: 1.5789\n",
      "Epoch 36/150\n",
      "142/142 [==============================] - 8s 57ms/step - loss: 4.1203 - mae: 1.5772\n",
      "Epoch 37/150\n",
      "142/142 [==============================] - 9s 63ms/step - loss: 4.0319 - mae: 1.5632\n",
      "Epoch 38/150\n",
      "142/142 [==============================] - 9s 65ms/step - loss: 4.0640 - mae: 1.5697\n",
      "Epoch 39/150\n",
      "142/142 [==============================] - 8s 60ms/step - loss: 3.9927 - mae: 1.5573\n",
      "Epoch 40/150\n",
      "142/142 [==============================] - 10s 71ms/step - loss: 4.0571 - mae: 1.5656\n",
      "Epoch 41/150\n",
      "142/142 [==============================] - 9s 61ms/step - loss: 3.9926 - mae: 1.5571\n",
      "Epoch 42/150\n",
      "142/142 [==============================] - 8s 58ms/step - loss: 3.9840 - mae: 1.5549\n",
      "Epoch 43/150\n",
      "142/142 [==============================] - 8s 55ms/step - loss: 3.9229 - mae: 1.5419\n",
      "Epoch 44/150\n",
      "142/142 [==============================] - 8s 58ms/step - loss: 3.9283 - mae: 1.5400\n",
      "Epoch 45/150\n",
      "142/142 [==============================] - 8s 58ms/step - loss: 3.8884 - mae: 1.5327\n",
      "Epoch 46/150\n",
      "142/142 [==============================] - 8s 59ms/step - loss: 3.9058 - mae: 1.5420\n",
      "Epoch 47/150\n",
      "142/142 [==============================] - 8s 60ms/step - loss: 3.9079 - mae: 1.5406\n",
      "Epoch 48/150\n",
      "142/142 [==============================] - 8s 57ms/step - loss: 3.8360 - mae: 1.5234\n",
      "Epoch 49/150\n",
      "142/142 [==============================] - 8s 58ms/step - loss: 3.8875 - mae: 1.5333\n",
      "Epoch 50/150\n",
      "142/142 [==============================] - 8s 58ms/step - loss: 3.8568 - mae: 1.5284\n",
      "Epoch 51/150\n",
      "142/142 [==============================] - 8s 59ms/step - loss: 3.8078 - mae: 1.5212\n",
      "Epoch 52/150\n",
      "142/142 [==============================] - 9s 60ms/step - loss: 3.7636 - mae: 1.5091\n",
      "Epoch 53/150\n",
      "142/142 [==============================] - 9s 62ms/step - loss: 3.8234 - mae: 1.5196\n",
      "Epoch 54/150\n",
      "142/142 [==============================] - 8s 59ms/step - loss: 3.8144 - mae: 1.5193\n",
      "Epoch 55/150\n",
      "142/142 [==============================] - 8s 57ms/step - loss: 3.8044 - mae: 1.5212\n",
      "Epoch 56/150\n",
      "142/142 [==============================] - 8s 57ms/step - loss: 3.7751 - mae: 1.5134\n",
      "Epoch 57/150\n",
      "142/142 [==============================] - 8s 58ms/step - loss: 3.7570 - mae: 1.5081\n",
      "Epoch 58/150\n",
      "142/142 [==============================] - 8s 58ms/step - loss: 3.7411 - mae: 1.5047\n",
      "Epoch 59/150\n",
      "142/142 [==============================] - 8s 58ms/step - loss: 3.7214 - mae: 1.4999\n",
      "Epoch 60/150\n",
      "142/142 [==============================] - 8s 56ms/step - loss: 3.7244 - mae: 1.4972\n",
      "Epoch 61/150\n",
      "142/142 [==============================] - 8s 55ms/step - loss: 3.7307 - mae: 1.4972\n",
      "Epoch 62/150\n",
      "142/142 [==============================] - 8s 56ms/step - loss: 3.6695 - mae: 1.4912\n",
      "Epoch 63/150\n",
      "142/142 [==============================] - 8s 59ms/step - loss: 3.7251 - mae: 1.5017\n",
      "Epoch 64/150\n",
      "142/142 [==============================] - 8s 58ms/step - loss: 3.6831 - mae: 1.4899\n",
      "Epoch 65/150\n",
      "142/142 [==============================] - 8s 59ms/step - loss: 3.6452 - mae: 1.4844\n",
      "Epoch 66/150\n",
      "142/142 [==============================] - 8s 55ms/step - loss: 3.6726 - mae: 1.4890\n",
      "Epoch 67/150\n",
      "142/142 [==============================] - 8s 56ms/step - loss: 3.6398 - mae: 1.4829\n",
      "Epoch 68/150\n",
      "142/142 [==============================] - 8s 56ms/step - loss: 3.6618 - mae: 1.4922\n",
      "Epoch 69/150\n",
      "142/142 [==============================] - 8s 56ms/step - loss: 3.6509 - mae: 1.4840\n",
      "Epoch 70/150\n",
      "142/142 [==============================] - 8s 55ms/step - loss: 3.6560 - mae: 1.4858\n",
      "Epoch 71/150\n",
      "142/142 [==============================] - 8s 56ms/step - loss: 3.6138 - mae: 1.4792\n",
      "Epoch 72/150\n",
      "142/142 [==============================] - 8s 58ms/step - loss: 3.6338 - mae: 1.4796\n",
      "Epoch 73/150\n",
      "142/142 [==============================] - 8s 55ms/step - loss: 3.5879 - mae: 1.4730\n",
      "Epoch 74/150\n",
      "142/142 [==============================] - 8s 54ms/step - loss: 3.5770 - mae: 1.4726\n",
      "Epoch 75/150\n",
      "142/142 [==============================] - 8s 55ms/step - loss: 3.5579 - mae: 1.4651\n",
      "Epoch 76/150\n",
      "142/142 [==============================] - 8s 58ms/step - loss: 3.5904 - mae: 1.4759\n",
      "Epoch 77/150\n",
      "142/142 [==============================] - 8s 58ms/step - loss: 3.5438 - mae: 1.4690\n",
      "Epoch 78/150\n",
      "142/142 [==============================] - 8s 56ms/step - loss: 3.5883 - mae: 1.4753\n",
      "Epoch 79/150\n",
      "142/142 [==============================] - 8s 56ms/step - loss: 3.5390 - mae: 1.4638\n",
      "Epoch 80/150\n",
      "142/142 [==============================] - 8s 56ms/step - loss: 3.5354 - mae: 1.4663\n",
      "Epoch 81/150\n",
      "142/142 [==============================] - 8s 59ms/step - loss: 3.5591 - mae: 1.4650\n",
      "Epoch 82/150\n",
      "142/142 [==============================] - 8s 57ms/step - loss: 3.5054 - mae: 1.4572\n",
      "Epoch 83/150\n",
      "142/142 [==============================] - 8s 54ms/step - loss: 3.5270 - mae: 1.4610\n",
      "Epoch 84/150\n",
      "142/142 [==============================] - 7s 49ms/step - loss: 3.4800 - mae: 1.4401\n",
      "Epoch 85/150\n",
      "142/142 [==============================] - 7s 49ms/step - loss: 3.4794 - mae: 1.4478\n",
      "Epoch 86/150\n",
      "142/142 [==============================] - 7s 49ms/step - loss: 3.4390 - mae: 1.4416\n",
      "Epoch 87/150\n",
      "142/142 [==============================] - 7s 50ms/step - loss: 3.4818 - mae: 1.4470\n",
      "Epoch 88/150\n",
      "142/142 [==============================] - 7s 50ms/step - loss: 3.4542 - mae: 1.4420\n",
      "Epoch 89/150\n",
      "142/142 [==============================] - 8s 55ms/step - loss: 3.4641 - mae: 1.4486\n",
      "Epoch 90/150\n",
      "142/142 [==============================] - 8s 58ms/step - loss: 3.4229 - mae: 1.4362\n",
      "Epoch 91/150\n",
      "142/142 [==============================] - 8s 56ms/step - loss: 3.4078 - mae: 1.4336\n",
      "Epoch 92/150\n",
      "142/142 [==============================] - 8s 54ms/step - loss: 3.4427 - mae: 1.4411\n",
      "Epoch 93/150\n",
      "142/142 [==============================] - 7s 52ms/step - loss: 3.4384 - mae: 1.4404\n",
      "Epoch 94/150\n",
      "142/142 [==============================] - 7s 52ms/step - loss: 3.3860 - mae: 1.4290\n",
      "Epoch 95/150\n",
      "142/142 [==============================] - 8s 53ms/step - loss: 3.3812 - mae: 1.4273\n",
      "Epoch 96/150\n",
      "142/142 [==============================] - 8s 54ms/step - loss: 3.3964 - mae: 1.4324\n",
      "Epoch 97/150\n",
      "142/142 [==============================] - 8s 54ms/step - loss: 3.3661 - mae: 1.4281\n",
      "Epoch 98/150\n",
      "142/142 [==============================] - 8s 55ms/step - loss: 3.3561 - mae: 1.4226\n",
      "Epoch 99/150\n",
      "142/142 [==============================] - 8s 53ms/step - loss: 3.3434 - mae: 1.4157\n",
      "Epoch 100/150\n",
      "142/142 [==============================] - 8s 54ms/step - loss: 3.3488 - mae: 1.4288\n",
      "Epoch 101/150\n",
      "142/142 [==============================] - 8s 54ms/step - loss: 3.3612 - mae: 1.4275\n",
      "Epoch 102/150\n",
      "142/142 [==============================] - 8s 55ms/step - loss: 3.3283 - mae: 1.4171\n",
      "Epoch 103/150\n",
      "142/142 [==============================] - 8s 54ms/step - loss: 3.3373 - mae: 1.4139\n",
      "Epoch 104/150\n",
      "142/142 [==============================] - 8s 54ms/step - loss: 3.3485 - mae: 1.4190\n",
      "Epoch 105/150\n",
      "142/142 [==============================] - 8s 54ms/step - loss: 3.2918 - mae: 1.4114\n",
      "Epoch 106/150\n",
      "142/142 [==============================] - 8s 53ms/step - loss: 3.3032 - mae: 1.4071\n",
      "Epoch 107/150\n",
      "142/142 [==============================] - 8s 54ms/step - loss: 3.3225 - mae: 1.4191\n",
      "Epoch 108/150\n",
      "142/142 [==============================] - 8s 55ms/step - loss: 3.3250 - mae: 1.4158\n",
      "Epoch 109/150\n",
      "142/142 [==============================] - 8s 59ms/step - loss: 3.3308 - mae: 1.4138\n",
      "Epoch 110/150\n",
      "142/142 [==============================] - 8s 53ms/step - loss: 3.3129 - mae: 1.4132\n",
      "Epoch 111/150\n",
      "142/142 [==============================] - 8s 53ms/step - loss: 3.2797 - mae: 1.4030\n",
      "Epoch 112/150\n",
      "142/142 [==============================] - 7s 52ms/step - loss: 3.2578 - mae: 1.3981\n",
      "Epoch 113/150\n",
      "142/142 [==============================] - 8s 54ms/step - loss: 3.3071 - mae: 1.4083\n",
      "Epoch 114/150\n",
      "142/142 [==============================] - 7s 53ms/step - loss: 3.2846 - mae: 1.4029\n",
      "Epoch 115/150\n",
      "142/142 [==============================] - 8s 54ms/step - loss: 3.2928 - mae: 1.4076\n",
      "Epoch 116/150\n",
      "142/142 [==============================] - 7s 52ms/step - loss: 3.2770 - mae: 1.4035\n",
      "Epoch 117/150\n",
      "142/142 [==============================] - 7s 52ms/step - loss: 3.2474 - mae: 1.4017\n",
      "Epoch 118/150\n",
      "142/142 [==============================] - 7s 53ms/step - loss: 3.2632 - mae: 1.3990\n",
      "Epoch 119/150\n",
      "142/142 [==============================] - 8s 54ms/step - loss: 3.2267 - mae: 1.3953\n",
      "Epoch 120/150\n",
      "142/142 [==============================] - 7s 52ms/step - loss: 3.2530 - mae: 1.3995\n",
      "Epoch 121/150\n",
      "142/142 [==============================] - 8s 54ms/step - loss: 3.2339 - mae: 1.3937\n",
      "Epoch 122/150\n",
      "142/142 [==============================] - 8s 54ms/step - loss: 3.2126 - mae: 1.3881\n",
      "Epoch 123/150\n",
      "142/142 [==============================] - 7s 53ms/step - loss: 3.2188 - mae: 1.3968\n",
      "Epoch 124/150\n",
      "142/142 [==============================] - 7s 52ms/step - loss: 3.2454 - mae: 1.4022\n",
      "Epoch 125/150\n",
      "142/142 [==============================] - 8s 54ms/step - loss: 3.2089 - mae: 1.3870\n",
      "Epoch 126/150\n",
      "142/142 [==============================] - 7s 52ms/step - loss: 3.1758 - mae: 1.3834\n",
      "Epoch 127/150\n",
      "142/142 [==============================] - 7s 52ms/step - loss: 3.1925 - mae: 1.3877\n",
      "Epoch 128/150\n",
      "142/142 [==============================] - 8s 57ms/step - loss: 3.1752 - mae: 1.3844\n",
      "Epoch 129/150\n",
      "142/142 [==============================] - 8s 58ms/step - loss: 3.2533 - mae: 1.3994\n",
      "Epoch 130/150\n",
      "142/142 [==============================] - 8s 58ms/step - loss: 3.2107 - mae: 1.3940\n",
      "Epoch 131/150\n",
      "142/142 [==============================] - 8s 55ms/step - loss: 3.1578 - mae: 1.3793\n",
      "Epoch 132/150\n",
      "142/142 [==============================] - 8s 54ms/step - loss: 3.1631 - mae: 1.3771\n",
      "Epoch 133/150\n",
      "142/142 [==============================] - 8s 55ms/step - loss: 3.1773 - mae: 1.3830\n",
      "Epoch 134/150\n",
      "142/142 [==============================] - 8s 59ms/step - loss: 3.1441 - mae: 1.3750\n",
      "Epoch 135/150\n",
      "142/142 [==============================] - 8s 55ms/step - loss: 3.1292 - mae: 1.3713\n",
      "Epoch 136/150\n",
      "142/142 [==============================] - 8s 54ms/step - loss: 3.1873 - mae: 1.3807\n",
      "Epoch 137/150\n",
      "142/142 [==============================] - 8s 56ms/step - loss: 3.1313 - mae: 1.3752\n",
      "Epoch 138/150\n",
      "142/142 [==============================] - 8s 54ms/step - loss: 3.1406 - mae: 1.3734\n",
      "Epoch 139/150\n",
      "142/142 [==============================] - 8s 56ms/step - loss: 3.1631 - mae: 1.3771\n",
      "Epoch 140/150\n",
      "142/142 [==============================] - 7s 52ms/step - loss: 3.1282 - mae: 1.3667\n",
      "Epoch 141/150\n",
      "142/142 [==============================] - 7s 48ms/step - loss: 3.1795 - mae: 1.3843\n",
      "Epoch 142/150\n",
      "142/142 [==============================] - 7s 50ms/step - loss: 3.1054 - mae: 1.3671\n",
      "Epoch 143/150\n",
      "142/142 [==============================] - 7s 49ms/step - loss: 3.1295 - mae: 1.3730\n",
      "Epoch 144/150\n",
      "142/142 [==============================] - 7s 47ms/step - loss: 3.1347 - mae: 1.3676\n",
      "Epoch 145/150\n",
      "142/142 [==============================] - 7s 48ms/step - loss: 3.0702 - mae: 1.3546\n",
      "Epoch 146/150\n",
      "142/142 [==============================] - 7s 48ms/step - loss: 3.0395 - mae: 1.3501\n",
      "Epoch 147/150\n",
      "142/142 [==============================] - 8s 53ms/step - loss: 3.0579 - mae: 1.3566\n",
      "Epoch 148/150\n",
      "142/142 [==============================] - 8s 54ms/step - loss: 3.1067 - mae: 1.3673\n",
      "Epoch 149/150\n",
      "142/142 [==============================] - 8s 53ms/step - loss: 3.1204 - mae: 1.3703\n",
      "Epoch 150/150\n",
      "142/142 [==============================] - 8s 53ms/step - loss: 3.0527 - mae: 1.3540\n"
     ]
    },
    {
     "data": {
      "text/plain": [
       "<keras.callbacks.History at 0x1b9bebf2760>"
      ]
     },
     "execution_count": 32,
     "metadata": {},
     "output_type": "execute_result"
    }
   ],
   "source": [
    "bidirectional_lstm.fit(training_vectors, y_train, batch_size=64, epochs=150)"
   ]
  },
  {
   "cell_type": "code",
   "execution_count": 33,
   "metadata": {},
   "outputs": [
    {
     "name": "stdout",
     "output_type": "stream",
     "text": [
      "122/122 [==============================] - 2s 8ms/step\n"
     ]
    },
    {
     "data": {
      "text/plain": [
       "array([[3.],\n",
       "       [5.],\n",
       "       [6.],\n",
       "       ...,\n",
       "       [7.],\n",
       "       [7.],\n",
       "       [9.]], dtype=float32)"
      ]
     },
     "execution_count": 33,
     "metadata": {},
     "output_type": "execute_result"
    }
   ],
   "source": [
    "bidirectional_lstm.save('final_bidirectional_lstm.h5')\n",
    "y_pred = bidirectional_lstm.predict(testing_vectors)\n",
    "y_pred = np.around(y_pred)\n",
    "y_pred"
   ]
  }
 ],
 "metadata": {
  "kernelspec": {
   "display_name": "Python 3 (ipykernel)",
   "language": "python",
   "name": "python3"
  },
  "language_info": {
   "codemirror_mode": {
    "name": "ipython",
    "version": 3
   },
   "file_extension": ".py",
   "mimetype": "text/x-python",
   "name": "python",
   "nbconvert_exporter": "python",
   "pygments_lexer": "ipython3",
   "version": "3.9.13"
  }
 },
 "nbformat": 4,
 "nbformat_minor": 4
}
